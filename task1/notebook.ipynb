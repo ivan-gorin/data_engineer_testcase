{
 "cells": [
  {
   "cell_type": "markdown",
   "metadata": {},
   "source": [
    "Есть Pandas DataFrame со столбцами [“customer_id”, “product_id”, “timestamp”], который содержит данные по просмотрам товаров на сайте. Есть проблема – просмотры одного customer_id не разбиты на сессии (появления на сайте). Мы хотим разместить сессии так, чтобы сессией считались все смежные просмотры, между которыми не более 3 минут.\n",
    "\n",
    "Написать методом который создаст в Pandas DataFrame столбец session_id и проставит в нем уникальный int id для каждой сессии.\n",
    "\n",
    "У каждого пользователя может быть по несколько сессий. Исходный DataFrame может быть большим – до 100 млн строк."
   ]
  },
  {
   "cell_type": "code",
   "execution_count": 2,
   "metadata": {},
   "outputs": [],
   "source": [
    "import numpy as np\n",
    "import pandas as pd"
   ]
  },
  {
   "cell_type": "code",
   "execution_count": 3,
   "metadata": {},
   "outputs": [],
   "source": [
    "def gendf(CUSTOMER_NUM=5, PRODUCT_NUM=10, ORDER_NUM=10, MAX_TIME_OFFSET=1000):\n",
    "    global df\n",
    "    df = pd.DataFrame({\n",
    "        'customer_id': np.random.randint(0, CUSTOMER_NUM, size=(ORDER_NUM,)),\n",
    "        'product_id': np.random.randint(0, PRODUCT_NUM, size=(ORDER_NUM,)),\n",
    "        'timestamp': pd.Timestamp('2018-01-01 00:00:00') + pd.to_timedelta(np.random.randint(15, MAX_TIME_OFFSET, size=(ORDER_NUM,)), unit='s'),\n",
    "        }).sort_values('timestamp')\n",
    "\n",
    "gendf()"
   ]
  },
  {
   "cell_type": "code",
   "execution_count": 4,
   "metadata": {},
   "outputs": [
    {
     "data": {
      "text/html": [
       "<div>\n",
       "<style scoped>\n",
       "    .dataframe tbody tr th:only-of-type {\n",
       "        vertical-align: middle;\n",
       "    }\n",
       "\n",
       "    .dataframe tbody tr th {\n",
       "        vertical-align: top;\n",
       "    }\n",
       "\n",
       "    .dataframe thead th {\n",
       "        text-align: right;\n",
       "    }\n",
       "</style>\n",
       "<table border=\"1\" class=\"dataframe\">\n",
       "  <thead>\n",
       "    <tr style=\"text-align: right;\">\n",
       "      <th></th>\n",
       "      <th>customer_id</th>\n",
       "      <th>product_id</th>\n",
       "      <th>timestamp</th>\n",
       "    </tr>\n",
       "  </thead>\n",
       "  <tbody>\n",
       "    <tr>\n",
       "      <th>1</th>\n",
       "      <td>3</td>\n",
       "      <td>7</td>\n",
       "      <td>2018-01-01 00:01:30</td>\n",
       "    </tr>\n",
       "    <tr>\n",
       "      <th>4</th>\n",
       "      <td>2</td>\n",
       "      <td>6</td>\n",
       "      <td>2018-01-01 00:03:22</td>\n",
       "    </tr>\n",
       "    <tr>\n",
       "      <th>0</th>\n",
       "      <td>1</td>\n",
       "      <td>9</td>\n",
       "      <td>2018-01-01 00:06:41</td>\n",
       "    </tr>\n",
       "    <tr>\n",
       "      <th>2</th>\n",
       "      <td>3</td>\n",
       "      <td>8</td>\n",
       "      <td>2018-01-01 00:07:39</td>\n",
       "    </tr>\n",
       "    <tr>\n",
       "      <th>8</th>\n",
       "      <td>2</td>\n",
       "      <td>1</td>\n",
       "      <td>2018-01-01 00:08:33</td>\n",
       "    </tr>\n",
       "    <tr>\n",
       "      <th>3</th>\n",
       "      <td>3</td>\n",
       "      <td>6</td>\n",
       "      <td>2018-01-01 00:08:44</td>\n",
       "    </tr>\n",
       "    <tr>\n",
       "      <th>7</th>\n",
       "      <td>0</td>\n",
       "      <td>6</td>\n",
       "      <td>2018-01-01 00:09:53</td>\n",
       "    </tr>\n",
       "    <tr>\n",
       "      <th>5</th>\n",
       "      <td>2</td>\n",
       "      <td>1</td>\n",
       "      <td>2018-01-01 00:11:03</td>\n",
       "    </tr>\n",
       "    <tr>\n",
       "      <th>9</th>\n",
       "      <td>3</td>\n",
       "      <td>9</td>\n",
       "      <td>2018-01-01 00:12:40</td>\n",
       "    </tr>\n",
       "    <tr>\n",
       "      <th>6</th>\n",
       "      <td>0</td>\n",
       "      <td>2</td>\n",
       "      <td>2018-01-01 00:15:04</td>\n",
       "    </tr>\n",
       "  </tbody>\n",
       "</table>\n",
       "</div>"
      ],
      "text/plain": [
       "   customer_id  product_id           timestamp\n",
       "1            3           7 2018-01-01 00:01:30\n",
       "4            2           6 2018-01-01 00:03:22\n",
       "0            1           9 2018-01-01 00:06:41\n",
       "2            3           8 2018-01-01 00:07:39\n",
       "8            2           1 2018-01-01 00:08:33\n",
       "3            3           6 2018-01-01 00:08:44\n",
       "7            0           6 2018-01-01 00:09:53\n",
       "5            2           1 2018-01-01 00:11:03\n",
       "9            3           9 2018-01-01 00:12:40\n",
       "6            0           2 2018-01-01 00:15:04"
      ]
     },
     "execution_count": 4,
     "metadata": {},
     "output_type": "execute_result"
    }
   ],
   "source": [
    "df"
   ]
  },
  {
   "cell_type": "markdown",
   "metadata": {},
   "source": [
    "Самое очевидное решение: для каждого пользователя пройти по записям, храня значение `session_id` и предыдущий `timestamp`, и увеличивать `session_id` если разница текущего `timestamp` с предыдущим больше 3 минут. Однако такой метод будет очень медленным, потому что не использует возможности pandas."
   ]
  },
  {
   "cell_type": "code",
   "execution_count": 4,
   "metadata": {},
   "outputs": [
    {
     "data": {
      "text/html": [
       "<div>\n",
       "<style scoped>\n",
       "    .dataframe tbody tr th:only-of-type {\n",
       "        vertical-align: middle;\n",
       "    }\n",
       "\n",
       "    .dataframe tbody tr th {\n",
       "        vertical-align: top;\n",
       "    }\n",
       "\n",
       "    .dataframe thead th {\n",
       "        text-align: right;\n",
       "    }\n",
       "</style>\n",
       "<table border=\"1\" class=\"dataframe\">\n",
       "  <thead>\n",
       "    <tr style=\"text-align: right;\">\n",
       "      <th></th>\n",
       "      <th>customer_id</th>\n",
       "      <th>product_id</th>\n",
       "      <th>timestamp</th>\n",
       "      <th>session_id</th>\n",
       "    </tr>\n",
       "  </thead>\n",
       "  <tbody>\n",
       "    <tr>\n",
       "      <th>6</th>\n",
       "      <td>0</td>\n",
       "      <td>2</td>\n",
       "      <td>2018-01-01 00:03:51</td>\n",
       "      <td>0.0</td>\n",
       "    </tr>\n",
       "    <tr>\n",
       "      <th>5</th>\n",
       "      <td>0</td>\n",
       "      <td>2</td>\n",
       "      <td>2018-01-01 00:08:36</td>\n",
       "      <td>1.0</td>\n",
       "    </tr>\n",
       "    <tr>\n",
       "      <th>1</th>\n",
       "      <td>0</td>\n",
       "      <td>4</td>\n",
       "      <td>2018-01-01 00:11:50</td>\n",
       "      <td>2.0</td>\n",
       "    </tr>\n",
       "    <tr>\n",
       "      <th>7</th>\n",
       "      <td>0</td>\n",
       "      <td>8</td>\n",
       "      <td>2018-01-01 00:15:33</td>\n",
       "      <td>3.0</td>\n",
       "    </tr>\n",
       "    <tr>\n",
       "      <th>9</th>\n",
       "      <td>1</td>\n",
       "      <td>9</td>\n",
       "      <td>2018-01-01 00:04:33</td>\n",
       "      <td>4.0</td>\n",
       "    </tr>\n",
       "    <tr>\n",
       "      <th>8</th>\n",
       "      <td>1</td>\n",
       "      <td>0</td>\n",
       "      <td>2018-01-01 00:14:22</td>\n",
       "      <td>5.0</td>\n",
       "    </tr>\n",
       "    <tr>\n",
       "      <th>4</th>\n",
       "      <td>2</td>\n",
       "      <td>3</td>\n",
       "      <td>2018-01-01 00:02:29</td>\n",
       "      <td>6.0</td>\n",
       "    </tr>\n",
       "    <tr>\n",
       "      <th>0</th>\n",
       "      <td>2</td>\n",
       "      <td>6</td>\n",
       "      <td>2018-01-01 00:04:14</td>\n",
       "      <td>6.0</td>\n",
       "    </tr>\n",
       "    <tr>\n",
       "      <th>2</th>\n",
       "      <td>2</td>\n",
       "      <td>2</td>\n",
       "      <td>2018-01-01 00:05:40</td>\n",
       "      <td>6.0</td>\n",
       "    </tr>\n",
       "    <tr>\n",
       "      <th>3</th>\n",
       "      <td>2</td>\n",
       "      <td>2</td>\n",
       "      <td>2018-01-01 00:12:53</td>\n",
       "      <td>7.0</td>\n",
       "    </tr>\n",
       "  </tbody>\n",
       "</table>\n",
       "</div>"
      ],
      "text/plain": [
       "   customer_id  product_id           timestamp  session_id\n",
       "6            0           2 2018-01-01 00:03:51         0.0\n",
       "5            0           2 2018-01-01 00:08:36         1.0\n",
       "1            0           4 2018-01-01 00:11:50         2.0\n",
       "7            0           8 2018-01-01 00:15:33         3.0\n",
       "9            1           9 2018-01-01 00:04:33         4.0\n",
       "8            1           0 2018-01-01 00:14:22         5.0\n",
       "4            2           3 2018-01-01 00:02:29         6.0\n",
       "0            2           6 2018-01-01 00:04:14         6.0\n",
       "2            2           2 2018-01-01 00:05:40         6.0\n",
       "3            2           2 2018-01-01 00:12:53         7.0"
      ]
     },
     "execution_count": 4,
     "metadata": {},
     "output_type": "execute_result"
    }
   ],
   "source": [
    "def naive(df):\n",
    "    session_id = -1\n",
    "    cur_customer_id = -1\n",
    "    last_timestamp = None\n",
    "    \n",
    "    for name, group in df.groupby('customer_id'):\n",
    "        for j in group.itertuples():\n",
    "            if j[1] != cur_customer_id:\n",
    "                session_id += 1\n",
    "                cur_customer_id = j[1]\n",
    "                last_timestamp = j[3]\n",
    "            elif (j[3] - last_timestamp) > pd.Timedelta('3min'):\n",
    "                session_id += 1\n",
    "            df.loc[j.Index, 'session_id'] = session_id\n",
    "            last_timestamp = j[3]\n",
    "\n",
    "gendf()\n",
    "naive(df)\n",
    "df.sort_values('customer_id')"
   ]
  },
  {
   "cell_type": "markdown",
   "metadata": {},
   "source": [
    "Немного более быстрый способ с использованием apply вместо цикла:"
   ]
  },
  {
   "cell_type": "code",
   "execution_count": 8,
   "metadata": {},
   "outputs": [
    {
     "data": {
      "text/html": [
       "<div>\n",
       "<style scoped>\n",
       "    .dataframe tbody tr th:only-of-type {\n",
       "        vertical-align: middle;\n",
       "    }\n",
       "\n",
       "    .dataframe tbody tr th {\n",
       "        vertical-align: top;\n",
       "    }\n",
       "\n",
       "    .dataframe thead th {\n",
       "        text-align: right;\n",
       "    }\n",
       "</style>\n",
       "<table border=\"1\" class=\"dataframe\">\n",
       "  <thead>\n",
       "    <tr style=\"text-align: right;\">\n",
       "      <th></th>\n",
       "      <th>customer_id</th>\n",
       "      <th>product_id</th>\n",
       "      <th>timestamp</th>\n",
       "      <th>session_id</th>\n",
       "    </tr>\n",
       "  </thead>\n",
       "  <tbody>\n",
       "    <tr>\n",
       "      <th>0</th>\n",
       "      <td>0</td>\n",
       "      <td>9</td>\n",
       "      <td>2018-01-01 00:15:10</td>\n",
       "      <td>0.0</td>\n",
       "    </tr>\n",
       "    <tr>\n",
       "      <th>2</th>\n",
       "      <td>1</td>\n",
       "      <td>0</td>\n",
       "      <td>2018-01-01 00:01:11</td>\n",
       "      <td>1.0</td>\n",
       "    </tr>\n",
       "    <tr>\n",
       "      <th>6</th>\n",
       "      <td>1</td>\n",
       "      <td>4</td>\n",
       "      <td>2018-01-01 00:06:29</td>\n",
       "      <td>2.0</td>\n",
       "    </tr>\n",
       "    <tr>\n",
       "      <th>9</th>\n",
       "      <td>2</td>\n",
       "      <td>5</td>\n",
       "      <td>2018-01-01 00:05:55</td>\n",
       "      <td>3.0</td>\n",
       "    </tr>\n",
       "    <tr>\n",
       "      <th>3</th>\n",
       "      <td>2</td>\n",
       "      <td>6</td>\n",
       "      <td>2018-01-01 00:10:49</td>\n",
       "      <td>4.0</td>\n",
       "    </tr>\n",
       "    <tr>\n",
       "      <th>7</th>\n",
       "      <td>2</td>\n",
       "      <td>2</td>\n",
       "      <td>2018-01-01 00:13:03</td>\n",
       "      <td>4.0</td>\n",
       "    </tr>\n",
       "    <tr>\n",
       "      <th>8</th>\n",
       "      <td>3</td>\n",
       "      <td>2</td>\n",
       "      <td>2018-01-01 00:16:21</td>\n",
       "      <td>5.0</td>\n",
       "    </tr>\n",
       "    <tr>\n",
       "      <th>1</th>\n",
       "      <td>4</td>\n",
       "      <td>4</td>\n",
       "      <td>2018-01-01 00:00:54</td>\n",
       "      <td>6.0</td>\n",
       "    </tr>\n",
       "    <tr>\n",
       "      <th>4</th>\n",
       "      <td>4</td>\n",
       "      <td>5</td>\n",
       "      <td>2018-01-01 00:13:20</td>\n",
       "      <td>7.0</td>\n",
       "    </tr>\n",
       "    <tr>\n",
       "      <th>5</th>\n",
       "      <td>4</td>\n",
       "      <td>6</td>\n",
       "      <td>2018-01-01 00:15:21</td>\n",
       "      <td>7.0</td>\n",
       "    </tr>\n",
       "  </tbody>\n",
       "</table>\n",
       "</div>"
      ],
      "text/plain": [
       "   customer_id  product_id           timestamp  session_id\n",
       "0            0           9 2018-01-01 00:15:10         0.0\n",
       "2            1           0 2018-01-01 00:01:11         1.0\n",
       "6            1           4 2018-01-01 00:06:29         2.0\n",
       "9            2           5 2018-01-01 00:05:55         3.0\n",
       "3            2           6 2018-01-01 00:10:49         4.0\n",
       "7            2           2 2018-01-01 00:13:03         4.0\n",
       "8            3           2 2018-01-01 00:16:21         5.0\n",
       "1            4           4 2018-01-01 00:00:54         6.0\n",
       "4            4           5 2018-01-01 00:13:20         7.0\n",
       "5            4           6 2018-01-01 00:15:21         7.0"
      ]
     },
     "execution_count": 8,
     "metadata": {},
     "output_type": "execute_result"
    }
   ],
   "source": [
    "def naive2(df):    \n",
    "    session_id = -1\n",
    "    cur_customer_id = -1\n",
    "    last_timestamp = None\n",
    "    def naive2(x):\n",
    "        nonlocal session_id, cur_customer_id, last_timestamp\n",
    "        if x['customer_id'] != cur_customer_id:\n",
    "            session_id += 1\n",
    "            cur_customer_id = x['customer_id']\n",
    "            last_timestamp = x['timestamp']\n",
    "            return session_id\n",
    "        if (x['timestamp'] - last_timestamp) > pd.Timedelta('3min'):\n",
    "            session_id += 1\n",
    "        last_timestamp = x['timestamp']\n",
    "        return session_id\n",
    "    \n",
    "    for name, group in df.groupby('customer_id'):\n",
    "                df.loc[group.index, 'session_id'] = group.apply(naive2, axis=1)\n",
    "\n",
    "gendf()\n",
    "naive(df)\n",
    "df.sort_values('customer_id')"
   ]
  },
  {
   "cell_type": "code",
   "execution_count": 28,
   "metadata": {},
   "outputs": [],
   "source": [
    "from time import perf_counter\n",
    "\n",
    "# для честного тестирования скорости нужно каждый раз запускать метод на новом датафрейме, поэтому такая функция\n",
    "def test_funcs(funcs_to_test, iter_count=100, order_num=1000):\n",
    "    n = len(funcs_to_test)\n",
    "    result = [0 for _ in range(n)]\n",
    "\n",
    "    for idx in range(iter_count):\n",
    "        gendf(ORDER_NUM=order_num)\n",
    "\n",
    "        for f in range(n):\n",
    "            df2 = df.copy()\n",
    "            start = perf_counter()\n",
    "            funcs_to_test[((idx+f) % n)](df2)\n",
    "            end = perf_counter()\n",
    "            result[((idx+f) % n)] += end - start\n",
    "    \n",
    "    for func, res in zip(funcs_to_test, result):\n",
    "        print(f'{func.__name__}, {res*1000 / iter_count:.3f}ms')\n",
    "    "
   ]
  },
  {
   "cell_type": "code",
   "execution_count": 29,
   "metadata": {},
   "outputs": [
    {
     "name": "stdout",
     "output_type": "stream",
     "text": [
      "naive, 108.429ms\n",
      "naive2, 32.083ms\n"
     ]
    }
   ],
   "source": [
    "test_funcs([naive, naive2])"
   ]
  },
  {
   "cell_type": "markdown",
   "metadata": {},
   "source": [
    "Заметим, что вместо того, чтобы вычитать из каждого `timestamp` предыдущий, мы можем из всего столбца вычесть его самого, сдвинутого на одну позицию вперед. Сравнив полученный столбец с дельтой в 3 минуты получим булевый индикатор, который показывает, когда нужно инкрементировать `session_id`. Взяв его кумулятивную сумму получим сам `session_id` для каждой записи."
   ]
  },
  {
   "cell_type": "code",
   "execution_count": 8,
   "metadata": {},
   "outputs": [
    {
     "data": {
      "text/html": [
       "<div>\n",
       "<style scoped>\n",
       "    .dataframe tbody tr th:only-of-type {\n",
       "        vertical-align: middle;\n",
       "    }\n",
       "\n",
       "    .dataframe tbody tr th {\n",
       "        vertical-align: top;\n",
       "    }\n",
       "\n",
       "    .dataframe thead th {\n",
       "        text-align: right;\n",
       "    }\n",
       "</style>\n",
       "<table border=\"1\" class=\"dataframe\">\n",
       "  <thead>\n",
       "    <tr style=\"text-align: right;\">\n",
       "      <th></th>\n",
       "      <th>customer_id</th>\n",
       "      <th>product_id</th>\n",
       "      <th>timestamp</th>\n",
       "      <th>session_id</th>\n",
       "    </tr>\n",
       "  </thead>\n",
       "  <tbody>\n",
       "    <tr>\n",
       "      <th>1</th>\n",
       "      <td>0</td>\n",
       "      <td>8</td>\n",
       "      <td>2018-01-01 00:02:54</td>\n",
       "      <td>0</td>\n",
       "    </tr>\n",
       "    <tr>\n",
       "      <th>5</th>\n",
       "      <td>0</td>\n",
       "      <td>0</td>\n",
       "      <td>2018-01-01 00:04:12</td>\n",
       "      <td>0</td>\n",
       "    </tr>\n",
       "    <tr>\n",
       "      <th>2</th>\n",
       "      <td>0</td>\n",
       "      <td>2</td>\n",
       "      <td>2018-01-01 00:04:55</td>\n",
       "      <td>0</td>\n",
       "    </tr>\n",
       "    <tr>\n",
       "      <th>6</th>\n",
       "      <td>0</td>\n",
       "      <td>6</td>\n",
       "      <td>2018-01-01 00:05:00</td>\n",
       "      <td>0</td>\n",
       "    </tr>\n",
       "    <tr>\n",
       "      <th>7</th>\n",
       "      <td>0</td>\n",
       "      <td>9</td>\n",
       "      <td>2018-01-01 00:12:55</td>\n",
       "      <td>1</td>\n",
       "    </tr>\n",
       "    <tr>\n",
       "      <th>4</th>\n",
       "      <td>1</td>\n",
       "      <td>2</td>\n",
       "      <td>2018-01-01 00:08:10</td>\n",
       "      <td>2</td>\n",
       "    </tr>\n",
       "    <tr>\n",
       "      <th>0</th>\n",
       "      <td>1</td>\n",
       "      <td>3</td>\n",
       "      <td>2018-01-01 00:09:27</td>\n",
       "      <td>2</td>\n",
       "    </tr>\n",
       "    <tr>\n",
       "      <th>8</th>\n",
       "      <td>1</td>\n",
       "      <td>8</td>\n",
       "      <td>2018-01-01 00:13:35</td>\n",
       "      <td>3</td>\n",
       "    </tr>\n",
       "    <tr>\n",
       "      <th>9</th>\n",
       "      <td>2</td>\n",
       "      <td>4</td>\n",
       "      <td>2018-01-01 00:07:08</td>\n",
       "      <td>4</td>\n",
       "    </tr>\n",
       "    <tr>\n",
       "      <th>3</th>\n",
       "      <td>4</td>\n",
       "      <td>3</td>\n",
       "      <td>2018-01-01 00:10:24</td>\n",
       "      <td>5</td>\n",
       "    </tr>\n",
       "  </tbody>\n",
       "</table>\n",
       "</div>"
      ],
      "text/plain": [
       "   customer_id  product_id           timestamp  session_id\n",
       "1            0           8 2018-01-01 00:02:54           0\n",
       "5            0           0 2018-01-01 00:04:12           0\n",
       "2            0           2 2018-01-01 00:04:55           0\n",
       "6            0           6 2018-01-01 00:05:00           0\n",
       "7            0           9 2018-01-01 00:12:55           1\n",
       "4            1           2 2018-01-01 00:08:10           2\n",
       "0            1           3 2018-01-01 00:09:27           2\n",
       "8            1           8 2018-01-01 00:13:35           3\n",
       "9            2           4 2018-01-01 00:07:08           4\n",
       "3            4           3 2018-01-01 00:10:24           5"
      ]
     },
     "execution_count": 8,
     "metadata": {},
     "output_type": "execute_result"
    }
   ],
   "source": [
    "def add_session_id(df):\n",
    "    # инициализируем столбец нулями. Этого можно не делать, однако тогда столбец примет dtype=float, тк int не может иметь значение nan.\n",
    "    # Вместо этого можно также в конце сделать df['session_id'].astype(int), однако это займет дольше времени из-за лишней конвертации\n",
    "    df['session_id'] = 0\n",
    "    g = df.groupby('customer_id')\n",
    "    offset = 0\n",
    "    for name, group in g:\n",
    "        # fillna для заполнения самого первого индекса\n",
    "        df.loc[group.index, 'session_id'] = (group['timestamp'] - group['timestamp'].shift(1) > pd.Timedelta('3min')).fillna(0).cumsum() + offset\n",
    "        # так как session_id уникальны глобально, то нужно смещать его значения для следующего пользователя на последний id этого пользователя\n",
    "        offset = df['session_id'].max() + 1\n",
    "        \n",
    "gendf()\n",
    "add_session_id(df)\n",
    "df.sort_values('customer_id')"
   ]
  },
  {
   "cell_type": "code",
   "execution_count": 31,
   "metadata": {},
   "outputs": [
    {
     "name": "stdout",
     "output_type": "stream",
     "text": [
      "naive2, 31.693ms\n",
      "add_session_id, 7.716ms\n"
     ]
    }
   ],
   "source": [
    "test_funcs([naive2, add_session_id])"
   ]
  },
  {
   "cell_type": "markdown",
   "metadata": {},
   "source": [
    "Проверим, что полученный результат совпадает с ожидаемым:"
   ]
  },
  {
   "cell_type": "code",
   "execution_count": 11,
   "metadata": {},
   "outputs": [
    {
     "data": {
      "text/plain": [
       "True"
      ]
     },
     "execution_count": 11,
     "metadata": {},
     "output_type": "execute_result"
    }
   ],
   "source": [
    "gendf(ORDER_NUM=1000)\n",
    "df2 = df.copy()\n",
    "naive(df)\n",
    "df['session_id'] = df['session_id'].astype(int)\n",
    "add_session_id(df2)\n",
    "\n",
    "df.equals(df2)"
   ]
  },
  {
   "cell_type": "markdown",
   "metadata": {},
   "source": [
    "Тест на большом датасете:"
   ]
  },
  {
   "cell_type": "code",
   "execution_count": 37,
   "metadata": {},
   "outputs": [
    {
     "name": "stdout",
     "output_type": "stream",
     "text": [
      "add_session_id, 2688.079ms\n"
     ]
    }
   ],
   "source": [
    "test_funcs([add_session_id], order_num=10000000, iter_count=10)"
   ]
  },
  {
   "cell_type": "markdown",
   "metadata": {},
   "source": [
    "Функция вынесена в файл `solution.py`"
   ]
  }
 ],
 "metadata": {
  "kernelspec": {
   "display_name": "Python 3.8.10 64-bit ('3.8.10')",
   "language": "python",
   "name": "python3"
  },
  "language_info": {
   "codemirror_mode": {
    "name": "ipython",
    "version": 3
   },
   "file_extension": ".py",
   "mimetype": "text/x-python",
   "name": "python",
   "nbconvert_exporter": "python",
   "pygments_lexer": "ipython3",
   "version": "3.8.10"
  },
  "vscode": {
   "interpreter": {
    "hash": "8614383f98f36d8544e48604390b638ca56a38a9099f349959a0c37d7d208ef1"
   }
  }
 },
 "nbformat": 4,
 "nbformat_minor": 4
}
